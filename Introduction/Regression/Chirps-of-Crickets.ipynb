{
 "cells": [
  {
   "cell_type": "markdown",
   "metadata": {},
   "source": [
    "# Chirps of Crickets"
   ]
  },
  {
   "cell_type": "markdown",
   "metadata": {},
   "source": [
    "This notebook is about modelling a linear relationship between \"chirps of a cricket\" and ground temperature. \n",
    "\n",
    "In 1948, G. W. Pierce in his book \"Songs of Insects\" mentioned that we can predict temperature by listening to the freuency of songs (chirps) made by stripped Crickets. He recorded change in behaviour of crickets by recording number of chirps made by them at several \"different temperatures\" and found that there is a pattern in the way crickets respond to the rate of change in ground temperature 60 to 100 degrees of farenhite. He also found out that Crickets did not sing   \n",
    "above or below this temperature.\n",
    "\n",
    "This data is derieved from the above mentioned book and aim is to fit a linear model and predict the \"Best Fit Line\" for the given \"Chirps (per 15 Second)\" in Column 'A' and the corresponding \"Temperatures (Farenhite)\" in Column 'B' using TensorFlow. So that one could easily tell what temperature it is just by listening to the songs of cricket. "
   ]
  },
  {
   "cell_type": "markdown",
   "metadata": {},
   "source": [
    "### Let's import tensorFlow and python dependencies "
   ]
  },
  {
   "cell_type": "code",
   "execution_count": 1,
   "metadata": {
    "collapsed": true,
    "scrolled": false
   },
   "outputs": [],
   "source": [
    "import tensorflow as tf\n",
    "import numpy as np\n",
    "import pandas as pd\n",
    "import matplotlib.pyplot as plt"
   ]
  },
  {
   "cell_type": "markdown",
   "metadata": {},
   "source": [
    "### Explore the Data "
   ]
  },
  {
   "cell_type": "code",
   "execution_count": 2,
   "metadata": {},
   "outputs": [
    {
     "data": {
      "text/html": [
       "<div>\n",
       "<style>\n",
       "    .dataframe thead tr:only-child th {\n",
       "        text-align: right;\n",
       "    }\n",
       "\n",
       "    .dataframe thead th {\n",
       "        text-align: left;\n",
       "    }\n",
       "\n",
       "    .dataframe tbody tr th {\n",
       "        vertical-align: top;\n",
       "    }\n",
       "</style>\n",
       "<table border=\"1\" class=\"dataframe\">\n",
       "  <thead>\n",
       "    <tr style=\"text-align: right;\">\n",
       "      <th></th>\n",
       "      <th>Chirps</th>\n",
       "      <th>Temp</th>\n",
       "    </tr>\n",
       "  </thead>\n",
       "  <tbody>\n",
       "    <tr>\n",
       "      <th>0</th>\n",
       "      <td>20.0</td>\n",
       "      <td>88.6</td>\n",
       "    </tr>\n",
       "    <tr>\n",
       "      <th>1</th>\n",
       "      <td>16.0</td>\n",
       "      <td>71.6</td>\n",
       "    </tr>\n",
       "    <tr>\n",
       "      <th>2</th>\n",
       "      <td>19.8</td>\n",
       "      <td>93.3</td>\n",
       "    </tr>\n",
       "    <tr>\n",
       "      <th>3</th>\n",
       "      <td>18.4</td>\n",
       "      <td>84.3</td>\n",
       "    </tr>\n",
       "    <tr>\n",
       "      <th>4</th>\n",
       "      <td>17.1</td>\n",
       "      <td>80.6</td>\n",
       "    </tr>\n",
       "  </tbody>\n",
       "</table>\n",
       "</div>"
      ],
      "text/plain": [
       "   Chirps  Temp\n",
       "0    20.0  88.6\n",
       "1    16.0  71.6\n",
       "2    19.8  93.3\n",
       "3    18.4  84.3\n",
       "4    17.1  80.6"
      ]
     },
     "execution_count": 2,
     "metadata": {},
     "output_type": "execute_result"
    }
   ],
   "source": [
    "df = pd.read_csv(\"PierceCricketData.csv\")\n",
    "df.head()"
   ]
  },
  {
   "cell_type": "markdown",
   "metadata": {},
   "source": [
    "<h6> Plot the Data Points </h6>"
   ]
  },
  {
   "cell_type": "code",
   "execution_count": 3,
   "metadata": {},
   "outputs": [
    {
     "data": {
      "text/plain": [
       "<matplotlib.text.Text at 0x295fc550080>"
      ]
     },
     "execution_count": 3,
     "metadata": {},
     "output_type": "execute_result"
    },
    {
     "data": {
      "image/png": "[encoded data removed]",
      "text/plain": [
       "<matplotlib.figure.Figure at 0x295fc4a3080>"
      ]
     },
     "metadata": {},
     "output_type": "display_data"
    }
   ],
   "source": [
    "%matplotlib inline\n",
    "\n",
    "x_data, y_data = df[\"Chirps\"].values, df[\"Temp\"].values\n",
    "\n",
    "# Plots the data points\n",
    "plt.plot(x_data, y_data, 'ro')\n",
    "# Label the axis\n",
    "plt.xlabel(\"# Chirps per 15 sec\")\n",
    "plt.ylabel(\"Temp in Farenhiet\")"
   ]
  },
  {
   "cell_type": "markdown",
   "metadata": {},
   "source": [
    "Looking at the scatter plot we can analyse that there is a linear relationship between the data points that connect chirps to the temperature and optimal way to infer this knowledge is by fitting a line that best describes the data. Which follows the linear equation:  \n",
    "                                           **Ypred = mX + c**\n",
    "  \n",
    "We have to estimate the values of the slope 'm' and the inrtercept 'c' to fit a line where, X is the \"Chirps\" and Ypred is \"Predicted Temperature\" in this case. "
   ]
  },
  {
   "cell_type": "markdown",
   "metadata": {},
   "source": [
    "### Data Flow Graph using TensorFlow "
   ]
  },
  {
   "cell_type": "code",
   "execution_count": 4,
   "metadata": {
    "collapsed": true
   },
   "outputs": [],
   "source": [
    "# Create place holders and Variables along with the Linear model.\n",
    "X = tf.placeholder(tf.float32, shape=(x_data.size))\n",
    "Y = tf.placeholder(tf.float32, shape=(y_data.size))\n",
    "\n",
    "# tf.Variable call creates a  single updatable copy in the memory and efficiently updates \n",
    "# the copy to relfect any changes in the variable values through out the scope of the tensorflow session\n",
    "m = tf.Variable(3.0)\n",
    "c = tf.Variable(2.0)\n",
    "\n",
    "Ypred = tf.add(tf.multiply(X, m), c)"
   ]
  },
  {
   "cell_type": "markdown",
   "metadata": {},
   "source": [
    "###  Create and Run a Session to Visualize the Predicted Line from above Graph \n",
    "\n",
    "<h6> Feel free to change the values of \"m\" and \"c\" in future to check how the initial position of line changes </h6>\n"
   ]
  },
  {
   "cell_type": "code",
   "execution_count": 5,
   "metadata": {
    "collapsed": true
   },
   "outputs": [],
   "source": [
    "# Create session and initialize variables\n",
    "session = tf.Session()\n",
    "session.run(tf.global_variables_initializer())"
   ]
  },
  {
   "cell_type": "code",
   "execution_count": 6,
   "metadata": {},
   "outputs": [
    {
     "data": {
      "text/plain": [
       "<matplotlib.text.Text at 0x295fc65ab38>"
      ]
     },
     "execution_count": 6,
     "metadata": {},
     "output_type": "execute_result"
    },
    {
     "data": {
      "image/png": "[encoded data removed]",
      "text/plain": [
       "<matplotlib.figure.Figure at 0x295fc5af748>"
      ]
     },
     "metadata": {},
     "output_type": "display_data"
    }
   ],
   "source": [
    "# Get prediction with initial parameter values\n",
    "prediction = session.run(Ypred, feed_dict={X: x_data})\n",
    "\n",
    "# Plot initial prediction against datapoints\n",
    "plt.plot(x_data, prediction)\n",
    "plt.plot(x_data, y_data, 'ro')\n",
    "# Label the axis\n",
    "plt.xlabel(\"# Chirps per 15 sec\")\n",
    "plt.ylabel(\"Temp in Farenhiet\")"
   ]
  },
  {
   "cell_type": "markdown",
   "metadata": {},
   "source": [
    "### Define a  Graph for Loss Function\n",
    "\n",
    "The essence of estimating the values for \"m\" and \"c\" lies in minimizing the difference between predicted \"Ypred\" and actual \"Y\" temperature values which is defined in the form of Mean Squared error loss function. \n",
    "      \n",
    "$$ loss = \\frac{1}{n}\\sum_{i=1}^n{[Ypred_i - {Y}_i]^2} $$\n",
    "\n",
    "Note: There are also other ways to model the loss function based on distance metric between predicted and actual temperature values. For this exercise Mean Suared error criteria is considered. \n"
   ]
  },
  {
   "cell_type": "code",
   "execution_count": 11,
   "metadata": {
    "collapsed": true
   },
   "outputs": [],
   "source": [
    "# Normalization factor\n",
    "nf = 1e-1\n",
    "# Seting up the loss function\n",
    "loss = tf.reduce_mean(tf.squared_difference(Ypred * nf, Y * nf))"
   ]
  },
  {
   "cell_type": "markdown",
   "metadata": {},
   "source": [
    "### Define an Optimization Graph to Minimize the Loss and Training the Model\n",
    "\n",
    "\n",
    "\n"
   ]
  },
  {
   "cell_type": "code",
   "execution_count": 12,
   "metadata": {
    "collapsed": true
   },
   "outputs": [],
   "source": [
    "optimizer = tf.train.GradientDescentOptimizer(learning_rate=0.01)\n",
    "train = optimizer.minimize(loss)  # Pass the loss function that optimizer should optimize on"
   ]
  },
  {
   "cell_type": "markdown",
   "metadata": {},
   "source": [
    "### Initialize all the vairiables again\n"
   ]
  },
  {
   "cell_type": "code",
   "execution_count": 13,
   "metadata": {
    "collapsed": true
   },
   "outputs": [],
   "source": [
    "session.run(tf.global_variables_initializer())"
   ]
  },
  {
   "cell_type": "markdown",
   "metadata": {},
   "source": [
    "###  Run session to train and predict the values of 'm' and 'c' for different training steps along with storing the losses in each step"
   ]
  },
  {
   "cell_type": "markdown",
   "metadata": {},
   "source": [
    "Get the predicted m and c values by running a session on a training linear model. Also collect the loss for different steps to print and plot.  "
   ]
  },
  {
   "cell_type": "code",
   "execution_count": 14,
   "metadata": {},
   "outputs": [
    {
     "name": "stdout",
     "output_type": "stream",
     "text": [
      "Finished by Convergence Criterion\n",
      "82\n",
      "0.184326\n"
     ]
    }
   ],
   "source": [
    "convergence_tolerance = 0.0001\n",
    "previous_m = np.inf\n",
    "previous_c = np.inf\n",
    "\n",
    "steps = {}\n",
    "steps['m'] = []\n",
    "steps['c'] = []\n",
    "\n",
    "losses = []\n",
    "\n",
    "for k in range(100000):\n",
    "    # Run a session to train , get m and c values with loss function \n",
    "    _, _m , _c, _l = session.run([train, m, c, loss], feed_dict={X: x_data, Y: y_data})\n",
    "    steps['m'].append(_m)\n",
    "    steps['c'].append(_c)\n",
    "    losses.append(_l)\n",
    "    if (np.abs(previous_m - _m) <= convergence_tolerance) or (np.abs(previous_c - _c) <= convergence_tolerance):\n",
    "        print(\"Finished by Convergence Criterion\")\n",
    "        print(k)\n",
    "        print(_l)\n",
    "        break\n",
    "    previous_m = _m\n",
    "    previous_c = _c \n",
    "    \n",
    "session.close() "
   ]
  },
  {
   "cell_type": "markdown",
   "metadata": {},
   "source": [
    "### Print the loss function"
   ]
  },
  {
   "cell_type": "code",
   "execution_count": 19,
   "metadata": {},
   "outputs": [
    {
     "data": {
      "text/plain": [
       "[<matplotlib.lines.Line2D at 0x2958da4a6d8>]"
      ]
     },
     "execution_count": 19,
     "metadata": {},
     "output_type": "execute_result"
    },
    {
     "data": {
      "image/png": "[encoded data removed]",
      "text/plain": [
       "<matplotlib.figure.Figure at 0x2958d9ea860>"
      ]
     },
     "metadata": {},
     "output_type": "display_data"
    }
   ],
   "source": [
    "plt.plot(losses)"
   ]
  }
 ],
 "metadata": {
  "anaconda-cloud": {},
  "kernelspec": {
   "display_name": "Python 3",
   "language": "python",
   "name": "python3"
  },
  "language_info": {
   "codemirror_mode": {
    "name": "ipython",
    "version": 3
   },
   "file_extension": ".py",
   "mimetype": "text/x-python",
   "name": "python",
   "nbconvert_exporter": "python",
   "pygments_lexer": "ipython3",
   "version": "3.6.5"
  }
 },
 "nbformat": 4,
 "nbformat_minor": 1
}
