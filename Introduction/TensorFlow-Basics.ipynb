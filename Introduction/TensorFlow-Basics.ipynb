{
 "cells": [
  {
   "cell_type": "markdown",
   "metadata": {},
   "source": [
    "# TensorFlow Basics"
   ]
  },
  {
   "cell_type": "markdown",
   "metadata": {},
   "source": [
    "#### Before everything, let's import the TensorFlow library"
   ]
  },
  {
   "cell_type": "code",
   "execution_count": 1,
   "metadata": {
    "collapsed": true
   },
   "outputs": [],
   "source": [
    "%matplotlib inline\n",
    "import tensorflow as tf"
   ]
  },
  {
   "cell_type": "markdown",
   "metadata": {},
   "source": [
    "### Add two constants and print the result."
   ]
  },
  {
   "cell_type": "code",
   "execution_count": 2,
   "metadata": {
    "collapsed": true
   },
   "outputs": [],
   "source": [
    "a = tf.constant([5])\n",
    "b = tf.constant([2])"
   ]
  },
  {
   "cell_type": "code",
   "execution_count": 3,
   "metadata": {
    "collapsed": true
   },
   "outputs": [],
   "source": [
    "c = a + b  # Create another TensorFlow object applying the sum (+) operation"
   ]
  },
  {
   "cell_type": "code",
   "execution_count": 4,
   "metadata": {
    "collapsed": false
   },
   "outputs": [
    {
     "name": "stdout",
     "output_type": "stream",
     "text": [
      "The addition of this two constants is: [7]\n"
     ]
    }
   ],
   "source": [
    "with tf.Session() as session:\n",
    "    result = session.run(c)\n",
    "    print(\"The addition of this two constants is: {0}\".format(result))"
   ]
  },
  {
   "cell_type": "markdown",
   "metadata": {},
   "source": [
    "### Now let's try to multiply them."
   ]
  },
  {
   "cell_type": "code",
   "execution_count": 5,
   "metadata": {
    "collapsed": true
   },
   "outputs": [],
   "source": [
    "c = a * b"
   ]
  },
  {
   "cell_type": "code",
   "execution_count": 6,
   "metadata": {
    "collapsed": false
   },
   "outputs": [
    {
     "name": "stdout",
     "output_type": "stream",
     "text": [
      "The Multiplication of this two constants is: [10]\n"
     ]
    }
   ],
   "source": [
    "with tf.Session() as session:\n",
    "    result = session.run(c)\n",
    "    print(\"The Multiplication of this two constants is: {0}\".format(result))"
   ]
  },
  {
   "cell_type": "markdown",
   "metadata": {},
   "source": [
    "### Multiplication: element-wise or matrix multiplication\n",
    "\n",
    "Let's see the different ways to multiply matrices:\n",
    "- **Element-wise** multiplication in the **first operation**;\n",
    "- **Matrix multiplication** on the **second operation**;"
   ]
  },
  {
   "cell_type": "code",
   "execution_count": 7,
   "metadata": {
    "collapsed": true,
    "scrolled": true
   },
   "outputs": [],
   "source": [
    "matrix_a = tf.constant([[2, 3], [3, 4]])\n",
    "matrix_b = tf.constant([[2, 3], [3, 4]])"
   ]
  },
  {
   "cell_type": "code",
   "execution_count": 8,
   "metadata": {
    "collapsed": true
   },
   "outputs": [],
   "source": [
    "first_operation = tf.multiply(matrix_a, matrix_b)\n",
    "second_operation = tf.matmul(matrix_a, matrix_b)"
   ]
  },
  {
   "cell_type": "code",
   "execution_count": 9,
   "metadata": {
    "collapsed": false
   },
   "outputs": [
    {
     "name": "stdout",
     "output_type": "stream",
     "text": [
      "Element-wise multiplication: \n",
      " [[ 4  9]\n",
      " [ 9 16]]\n",
      "Matrix Multiplication: \n",
      " [[13 18]\n",
      " [18 25]]\n"
     ]
    }
   ],
   "source": [
    "with tf.Session() as session:\n",
    "    result = session.run(first_operation)\n",
    "    print(\"Element-wise multiplication: \\n\", result)\n",
    "\n",
    "    result = session.run(second_operation)\n",
    "    print(\"Matrix Multiplication: \\n\", result)"
   ]
  },
  {
   "cell_type": "markdown",
   "metadata": {},
   "source": [
    "### Modify the value of variable b to the value in constant a:"
   ]
  },
  {
   "cell_type": "code",
   "execution_count": 10,
   "metadata": {
    "collapsed": true,
    "scrolled": true
   },
   "outputs": [],
   "source": [
    "a = tf.constant(1000)\n",
    "b = tf.Variable(0)"
   ]
  },
  {
   "cell_type": "code",
   "execution_count": 11,
   "metadata": {
    "collapsed": false
   },
   "outputs": [
    {
     "name": "stdout",
     "output_type": "stream",
     "text": [
      "b = 1000\n"
     ]
    }
   ],
   "source": [
    "update = tf.assign(b, a)\n",
    "with tf.Session() as session:\n",
    "    session.run(tf.global_variables_initializer()) \n",
    "    session.run(update) \n",
    "    print(\"b =\", session.run(b))"
   ]
  },
  {
   "cell_type": "markdown",
   "metadata": {},
   "source": [
    "### Fibonacci sequence\n",
    "\n",
    "Now we will do something more advanced. We will create a __fibonnacci sequence__ and print the first few values using TensorFlow:  \n",
    "If you don't know, the fibonnacci sequence is defined by the equation: <br><br>\n",
    "$$F_{n} = F_{n-1} + F_{n-2}$$<br>\n",
    "Resulting in a sequence like: 1, 1, 2, 3, 5, 8, 13, 21...\n",
    "\n",
    "\n"
   ]
  },
  {
   "cell_type": "code",
   "execution_count": 12,
   "metadata": {
    "collapsed": false
   },
   "outputs": [
    {
     "name": "stdout",
     "output_type": "stream",
     "text": [
      "[1, 1, 2, 3, 5, 8, 13, 21, 34, 55]\n"
     ]
    }
   ],
   "source": [
    "f = [tf.constant(1), tf.constant(1)]\n",
    "\n",
    "for i in range(2, 10):\n",
    "    temp = f[i - 1] + f[i - 2]\n",
    "    f.append(temp)\n",
    "\n",
    "with tf.Session() as sess:\n",
    "    result = sess.run(f)\n",
    "    print(result)"
   ]
  },
  {
   "cell_type": "markdown",
   "metadata": {},
   "source": [
    "### Now we will create placeholders and define any kind of operation between them:"
   ]
  },
  {
   "cell_type": "code",
   "execution_count": 13,
   "metadata": {
    "collapsed": false
   },
   "outputs": [
    {
     "name": "stdout",
     "output_type": "stream",
     "text": [
      "[ 1.  0.]\n"
     ]
    }
   ],
   "source": [
    "a = tf.placeholder(tf.float32)\n",
    "b = tf.placeholder(tf.float32)\n",
    "\n",
    "c = 2 * a - b\n",
    "\n",
    "dictionary = {a: [2, 2], b: [3, 4]}\n",
    "with tf.Session() as session:\n",
    "    print(session.run(c, feed_dict=dictionary))"
   ]
  },
  {
   "cell_type": "markdown",
   "metadata": {},
   "source": [
    "### Other operations.\n",
    "\n",
    "<div class=\"alert alert-info alertinfo\">\n",
    "<font size=3><strong>Some examples of functions:</strong></font>  \n",
    "tf.multiply(x, y)<br/>\n",
    "tf.div(x, y)<br/>\n",
    "tf.square(x)<br/>\n",
    "tf.sqrt(x)<br/>\n",
    "tf.pow(x, y)<br/>\n",
    "tf.exp(x)<br/>\n",
    "tf.log(x)<br/>\n",
    "tf.cos(x)<br/>\n",
    "tf.sin(x)<br/> <br/>\n",
    "<a href=\"https://www.tensorflow.org/versions/r0.9/api_docs/python/math_ops.html\">More operations</a>\n",
    "</div>"
   ]
  },
  {
   "cell_type": "code",
   "execution_count": 14,
   "metadata": {
    "collapsed": true
   },
   "outputs": [],
   "source": [
    "a = tf.constant(5.)\n",
    "b = tf.constant(2.)"
   ]
  },
  {
   "cell_type": "code",
   "execution_count": 15,
   "metadata": {
    "collapsed": true
   },
   "outputs": [],
   "source": [
    "c = tf.sin(a)"
   ]
  },
  {
   "cell_type": "code",
   "execution_count": 16,
   "metadata": {
    "collapsed": false,
    "scrolled": true
   },
   "outputs": [
    {
     "name": "stdout",
     "output_type": "stream",
     "text": [
      "c = -0.9589242935180664\n"
     ]
    }
   ],
   "source": [
    "with tf.Session() as session:\n",
    "    result = session.run(c)\n",
    "    print(\"c = {}\".format(result))"
   ]
  },
  {
   "cell_type": "markdown",
   "metadata": {},
   "source": [
    "They're really similar to mathematical functions, the only difference is that operations works over tensors."
   ]
  }
 ],
 "metadata": {
  "anaconda-cloud": {},
  "kernelspec": {
   "display_name": "Python 3",
   "language": "python",
   "name": "python3"
  },
  "language_info": {
   "codemirror_mode": {
    "name": "ipython",
    "version": 3
   },
   "file_extension": ".py",
   "mimetype": "text/x-python",
   "name": "python",
   "nbconvert_exporter": "python",
   "pygments_lexer": "ipython3",
   "version": "3.6.0"
  }
 },
 "nbformat": 4,
 "nbformat_minor": 1
}
