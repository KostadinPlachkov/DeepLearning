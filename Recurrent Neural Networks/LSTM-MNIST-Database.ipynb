{
 "cells": [
  {
   "cell_type": "markdown",
   "metadata": {},
   "source": [
    "# Sequence Classification with LSTM on MNIST"
   ]
  },
  {
   "cell_type": "markdown",
   "metadata": {},
   "source": [
    "<div class=\"alert alert-block alert-info\">\n",
    "<font size = 3><strong>Table of contents</strong></font>\n",
    "<p><a href=\"#intro\">- Introduction</a></p>\n",
    "<p><a href=\"#arch\">- Architectures</a></p>\n",
    "<p><a href=\"#lstm\">- Long Short-Term Memory Model (LSTM)</a></p>\n",
    "<p><a href=\"#build\">- Building a LSTM with TensorFlow</a></p>\n",
    "</div>"
   ]
  },
  {
   "cell_type": "markdown",
   "metadata": {},
   "source": [
    "## <a id=\"intro\"/> Introduction\n",
    "Recurrent Neural Networks are Deep Learning models with simple structures and a feedback mechanism builted-in, or in different words, the output of a layer is added to the next input and fed back to the same layer.\n",
    "\n",
    "The Recurrent Neural Network is a specialized type of Neural Network that solves the issue of **maintaining context for Sequential data** - such as Weather data, Stocks, Genes, etc. At each iterative step, the processing unit takes in an input and the current state of the network, and produces an output and a new state that is **re-fed into the network**.\n",
    "\n",
    "However, **this model has some problems**. It's very computationally expensive to maintain the state for a large amount of units, even more so over a long amount of time. Additionally, Recurrent Networks are very sensitive to changes in their parameters. As such, they are prone to different problems with their Gradient Descent optimizer - they either grow exponentially (Exploding Gradient) or drop down to near zero and stabilize (Vanishing Gradient), both problems that greatly harm a model's learning capability.\n",
    "\n",
    "To solve these problems, Hochreiter and Schmidhuber published a paper in 1997 describing a way to keep information over long periods of time and additionally solve the oversensitivity to parameter changes, i.e., make backpropagating through the Recurrent Networks more viable."
   ]
  },
  {
   "cell_type": "markdown",
   "metadata": {},
   "source": [
    "## <a id=\"arch\"/>Architectures\n",
    "- Fully Recurrent Network\n",
    "- Recursive Neural Networks\n",
    "- Hopfield Networks\n",
    "- Elman Networks and Jordan Networks\n",
    "- Echo State Networks\n",
    "- Neural history compressor\n",
    "- **The Long Short-Term Memory Model (LSTM)**\n",
    "\n",
    "<img src=\"https://ibm.box.com/shared/static/v7p90neiaqghmpwawpiecmz9n7080m59.png\" width=80%/>"
   ]
  },
  {
   "cell_type": "markdown",
   "metadata": {},
   "source": [
    "##  <a id=\"lstm\"/>LSTM\n",
    "LSTM is one of the proposed solutions or upgrades to the **Recurrent Neural Network model**. "
   ]
  },
  {
   "cell_type": "markdown",
   "metadata": {},
   "source": [
    "It is an abstraction of how computer memory works. It is \"bundled\" with whatever processing unit is implemented in the Recurrent Network, although outside of its flow, and is responsible for keeping, reading, and outputting information for the model. The way it works is simple: you have a linear unit, which is the information cell itself, surrounded by three logistic gates responsible for maintaining the data. One gate is for inputting data into the information cell, one is for outputting data from the input cell, and the last one is to keep or forget data depending on the needs of the network.\n",
    "\n",
    "Thanks to that, it not only solves the problem of keeping states, because the network can choose to forget data whenever information is not needed, it also solves the gradient problems, since the Logistic Gates have a very nice derivative.\n",
    "\n",
    "### Long Short-Term Memory Architecture\n",
    "\n",
    "As seen before, the Long Short-Term Memory is composed of a linear unit surrounded by three logistic gates. The name for these gates vary from place to place, but the most usual names for them are:\n",
    "- the \"Input\" or \"Write\" Gate, which handles the writing of data into the information cell \n",
    "- the \"Output\" or \"Read\" Gate, which handles the sending of data back onto the Recurrent Network \n",
    "- the \"Keep\" or \"Forget\" Gate, which handles the maintaining and modification of the data stored in the information cell.\n",
    "\n",
    "<img src=\"https://ibm.box.com/shared/static/zx10duv5egw0baw6gh2hzsgr8ex45gsg.png\" width=\"720\"/>\n",
    "<center>*Diagram of the Long Short-Term Memory Unit*</center>\n",
    "\n",
    "The three gates are the centerpiece of the LSTM unit. The gates, when activated by the network, perform their respective functions. For example, the Input Gate will write whatever data it is passed onto the information cell, the Output Gate will return whatever data is in the information cell, and the Keep Gate will maintain the data in the information cell. These gates are analog and multiplicative, and as such, can modify the data based on the signal they are sent."
   ]
  },
  {
   "cell_type": "markdown",
   "metadata": {},
   "source": [
    "## <a id=\"build\"/> Building a LSTM with TensorFlow"
   ]
  },
  {
   "cell_type": "markdown",
   "metadata": {},
   "source": [
    "#### LSTM for Classification\n",
    "Although RNN is mostly used to model sequences and predict sequential data, we can still classify images using a LSTM network. If we consider every image row as a sequence of pixels, we can feed a LSTM network for classification. Lets use the famous MNIST dataset here. Because MNIST image shape is 28*28px, we will then handle 28 sequences of 28 steps for every sample."
   ]
  },
  {
   "cell_type": "markdown",
   "metadata": {},
   "source": [
    "#### MNIST Dataset\n",
    "\n",
    "Tensor flow already provides **helper functions** to download and process the MNIST dataset."
   ]
  },
  {
   "cell_type": "code",
   "execution_count": 3,
   "metadata": {},
   "outputs": [],
   "source": [
    "%matplotlib inline\n",
    "import warnings\n",
    "warnings.filterwarnings('ignore')\n",
    "\n",
    "import numpy as np\n",
    "import matplotlib.pyplot as plt\n",
    "import tensorflow as tf"
   ]
  },
  {
   "cell_type": "code",
   "execution_count": 9,
   "metadata": {},
   "outputs": [
    {
     "name": "stdout",
     "output_type": "stream",
     "text": [
      "Successfully downloaded train-images-idx3-ubyte.gz 9912422 bytes.\n",
      "Extracting ./train-images-idx3-ubyte.gz\n",
      "Successfully downloaded train-labels-idx1-ubyte.gz 28881 bytes.\n",
      "Extracting ./train-labels-idx1-ubyte.gz\n",
      "Successfully downloaded t10k-images-idx3-ubyte.gz 1648877 bytes.\n",
      "Extracting ./t10k-images-idx3-ubyte.gz\n",
      "Successfully downloaded t10k-labels-idx1-ubyte.gz 4542 bytes.\n",
      "Extracting ./t10k-labels-idx1-ubyte.gz\n"
     ]
    }
   ],
   "source": [
    "from tensorflow.examples.tutorials.mnist import input_data\n",
    "mnist = input_data.read_data_sets(\".\", one_hot=True)"
   ]
  },
  {
   "cell_type": "markdown",
   "metadata": {},
   "source": [
    "The function **`input_data.read_data_sets(...)`** loads the entire dataset and returns an object **`tensorflow.contrib.learn.python.learn.datasets.mnist.DataSets`**\n",
    "\n",
    "\n",
    "The argument **(`one_hot=True`)** creates the label arrays as 10-dimensional binary vectors (only zeros and ones), in which the index cell for the number one, is the class label."
   ]
  },
  {
   "cell_type": "code",
   "execution_count": 8,
   "metadata": {},
   "outputs": [
    {
     "name": "stdout",
     "output_type": "stream",
     "text": [
      "Train Images: (55000, 784)\n",
      "Train Labels: (55000, 10)\n",
      "\n",
      "Test Images: (10000, 784)\n",
      "Test Labels: (10000, 10)\n"
     ]
    }
   ],
   "source": [
    "train_imgs = mnist.train.images\n",
    "train_labels = mnist.train.labels\n",
    "test_imgs = mnist.test.images\n",
    "test_labels = mnist.test.labels \n",
    "\n",
    "n_train = train_imgs.shape[0]\n",
    "n_test = test_imgs.shape[0]\n",
    "dim = train_imgs.shape[1]\n",
    "n_classes = train_labels.shape[1]\n",
    "print(\"Train Images:\", train_imgs.shape)\n",
    "print(\"Train Labels:\", train_labels.shape)\n",
    "print()\n",
    "print(\"Test Images:\", test_imgs.shape)\n",
    "print(\"Test Labels:\", test_labels.shape)"
   ]
  },
  {
   "cell_type": "markdown",
   "metadata": {},
   "source": [
    "### Let's get one sample, just to understand the structure of MNIST dataset \n",
    "\n",
    "The next code snippet prints the **label vector** (one_hot format), **the class** and actual sample formatted as **image**:"
   ]
  },
  {
   "cell_type": "code",
   "execution_count": 12,
   "metadata": {},
   "outputs": [
    {
     "data": {
      "image/png": "[encoded data removed]",
      "text/plain": [
       "<Figure size 432x288 with 2 Axes>"
      ]
     },
     "metadata": {},
     "output_type": "display_data"
    },
    {
     "name": "stdout",
     "output_type": "stream",
     "text": [
      "Sample: 100 - Class: [6] - Label Vector: [0. 0. 0. 0. 0. 0. 1. 0. 0. 0.] \n",
      "Sample: 101 - Class: [0] - Label Vector: [1. 0. 0. 0. 0. 0. 0. 0. 0. 0.] \n",
      "Sample: 102 - Class: [5] - Label Vector: [0. 0. 0. 0. 0. 1. 0. 0. 0. 0.] \n"
     ]
    }
   ],
   "source": [
    "samplesIdx = [100, 101, 102]  # Change these numbers here to see other samples.\n",
    "\n",
    "from mpl_toolkits.mplot3d import Axes3D\n",
    "fig = plt.figure()\n",
    "\n",
    "ax1 = fig.add_subplot(121)\n",
    "ax1.imshow(test_imgs[samplesIdx[0]].reshape([28, 28]), cmap='gray')\n",
    "\n",
    "xx, yy = np.meshgrid(np.linspace(0, 28, 28), np.linspace(0, 28, 28))\n",
    "X = xx\n",
    "Y = yy\n",
    "Z = 100 * np.ones(X.shape)\n",
    "\n",
    "img = test_imgs[77].reshape([28, 28])\n",
    "ax = fig.add_subplot(122, projection='3d')\n",
    "ax.set_zlim((0, 200))\n",
    "\n",
    "offset = 200\n",
    "for i in samplesIdx:\n",
    "    img = test_imgs[i].reshape([28,28]).transpose()\n",
    "    ax.contourf(X, Y, img, 200, zdir='z', offset=offset, cmap=\"gray\")\n",
    "    offset -= 100\n",
    "    ax.set_xticks([])\n",
    "\n",
    "ax.set_yticks([])\n",
    "ax.set_zticks([])\n",
    "\n",
    "plt.show()\n",
    "\n",
    "for i in samplesIdx:\n",
    "    print(\"Sample: {0} - Class: {1} - Label Vector: {2} \".format(i, np.nonzero(test_labels[i])[0], test_labels[i]))"
   ]
  },
  {
   "cell_type": "markdown",
   "metadata": {},
   "source": [
    "---\n",
    "### Let's understand the parameters, inputs and outputs\n",
    "\n",
    "We will treat the MNIST image $\\in \\mathcal{R}^{28 \\times 28}$ as $28$ sequences of a vector $\\mathbf{x} \\in \\mathcal{R}^{28}$. \n",
    "\n",
    "#### Our simple RNN consists of:  \n",
    "1. One input layer which converts a $28*28$ dimensional input to an $128$ dimensional hidden layer, \n",
    "2. One intermediate recurrent neural network (LSTM) \n",
    "3. One output layer which converts an $128$ dimensional output of the LSTM to $10$ dimensional output indicating a class label. "
   ]
  },
  {
   "cell_type": "code",
   "execution_count": 13,
   "metadata": {},
   "outputs": [],
   "source": [
    "n_input = 28  # MNIST data input (img shape: 28*28).\n",
    "n_steps = 28  # Timesteps.\n",
    "n_hidden = 128  # Hidden layer number of features.\n",
    "n_classes = 10  # MNIST total classes (0-9 digits).\n",
    "\n",
    "learning_rate = 0.001\n",
    "training_iters = 100000\n",
    "batch_size = 100\n",
    "display_step = 10"
   ]
  },
  {
   "cell_type": "markdown",
   "metadata": {},
   "source": [
    "#### Construct a Recurrent Neural Network"
   ]
  },
  {
   "cell_type": "markdown",
   "metadata": {},
   "source": [
    "The input should be a Tensor of shape: [batch_size, time_steps, input_dimension], but in our case it would be (?, 28, 28)"
   ]
  },
  {
   "cell_type": "code",
   "execution_count": 14,
   "metadata": {},
   "outputs": [],
   "source": [
    "x = tf.placeholder(dtype=\"float\", shape=[None, n_steps, n_input], name=\"x\")  # Current data input shape: (batch_size, n_steps, n_input) [100x28x28]\n",
    "y = tf.placeholder(dtype=\"float\", shape=[None, n_classes], name=\"y\")"
   ]
  },
  {
   "cell_type": "markdown",
   "metadata": {},
   "source": [
    "Lets create the weights and biases for the read out layer."
   ]
  },
  {
   "cell_type": "code",
   "execution_count": 15,
   "metadata": {},
   "outputs": [],
   "source": [
    "weights = {\n",
    "    'out': tf.Variable(tf.random_normal([n_hidden, n_classes]))\n",
    "}\n",
    "biases = {\n",
    "    'out': tf.Variable(tf.random_normal([n_classes]))\n",
    "}"
   ]
  },
  {
   "cell_type": "markdown",
   "metadata": {},
   "source": [
    "Lets define a lstm cell with tensorflow."
   ]
  },
  {
   "cell_type": "code",
   "execution_count": 16,
   "metadata": {},
   "outputs": [],
   "source": [
    "lstm_cell = tf.contrib.rnn.BasicLSTMCell(n_hidden, forget_bias=1.0)"
   ]
  },
  {
   "cell_type": "markdown",
   "metadata": {},
   "source": [
    "__dynamic_rnn__ creates a recurrent neural network specified from __lstm_cell__:"
   ]
  },
  {
   "cell_type": "code",
   "execution_count": 17,
   "metadata": {},
   "outputs": [],
   "source": [
    "outputs, states = tf.nn.dynamic_rnn(lstm_cell, inputs=x, dtype=tf.float32)"
   ]
  },
  {
   "cell_type": "markdown",
   "metadata": {},
   "source": [
    "The output of the RNN would be a [100x28x128] matrix. We use the linear activation to map it to a [?x10] matrix."
   ]
  },
  {
   "cell_type": "code",
   "execution_count": 18,
   "metadata": {},
   "outputs": [
    {
     "data": {
      "text/plain": [
       "<tf.Tensor 'add:0' shape=(?, 10) dtype=float32>"
      ]
     },
     "execution_count": 18,
     "metadata": {},
     "output_type": "execute_result"
    }
   ],
   "source": [
    "output = tf.reshape(tf.split(outputs, 28, axis=1, num=None, name='split')[-1], [-1,128])\n",
    "pred = tf.matmul(output, weights['out']) + biases['out']\n",
    "pred"
   ]
  },
  {
   "cell_type": "markdown",
   "metadata": {},
   "source": [
    "Now, we define the cost function and optimizer:"
   ]
  },
  {
   "cell_type": "code",
   "execution_count": 27,
   "metadata": {},
   "outputs": [],
   "source": [
    "cost = tf.reduce_mean(tf.nn.softmax_cross_entropy_with_logits(labels=y, logits=pred))\n",
    "optimizer = tf.train.AdamOptimizer(learning_rate=learning_rate).minimize(cost)"
   ]
  },
  {
   "cell_type": "markdown",
   "metadata": {},
   "source": [
    "Here we define the accuracy and evaluation methods to be used in the learning process:"
   ]
  },
  {
   "cell_type": "code",
   "execution_count": 28,
   "metadata": {},
   "outputs": [],
   "source": [
    "correct_pred = tf.equal(tf.argmax(pred, 1), tf.argmax(y, 1))\n",
    "accuracy = tf.reduce_mean(tf.cast(correct_pred, tf.float32))"
   ]
  },
  {
   "cell_type": "markdown",
   "metadata": {},
   "source": [
    "Just recall that we will treat the MNIST image $\\in \\mathcal{R}^{28 \\times 28}$ as $28$ sequences of a vector $\\mathbf{x} \\in \\mathcal{R}^{28}$. "
   ]
  },
  {
   "cell_type": "code",
   "execution_count": 29,
   "metadata": {},
   "outputs": [
    {
     "name": "stdout",
     "output_type": "stream",
     "text": [
      "Iter 1000, Minibatch Loss= 1.895056, Training Accuracy= 0.34000\n",
      "Iter 2000, Minibatch Loss= 1.700692, Training Accuracy= 0.44000\n",
      "Iter 3000, Minibatch Loss= 1.353452, Training Accuracy= 0.53000\n",
      "Iter 4000, Minibatch Loss= 1.235619, Training Accuracy= 0.55000\n",
      "Iter 5000, Minibatch Loss= 1.130953, Training Accuracy= 0.62000\n",
      "Iter 6000, Minibatch Loss= 0.764099, Training Accuracy= 0.75000\n",
      "Iter 7000, Minibatch Loss= 0.952095, Training Accuracy= 0.68000\n",
      "Iter 8000, Minibatch Loss= 0.613401, Training Accuracy= 0.80000\n",
      "Iter 9000, Minibatch Loss= 0.544535, Training Accuracy= 0.84000\n",
      "Iter 10000, Minibatch Loss= 0.494656, Training Accuracy= 0.86000\n",
      "Iter 11000, Minibatch Loss= 0.389980, Training Accuracy= 0.86000\n",
      "Iter 12000, Minibatch Loss= 0.406611, Training Accuracy= 0.87000\n",
      "Iter 13000, Minibatch Loss= 0.451887, Training Accuracy= 0.83000\n",
      "Iter 14000, Minibatch Loss= 0.410924, Training Accuracy= 0.87000\n",
      "Iter 15000, Minibatch Loss= 0.307586, Training Accuracy= 0.94000\n",
      "Iter 16000, Minibatch Loss= 0.277040, Training Accuracy= 0.91000\n",
      "Iter 17000, Minibatch Loss= 0.405284, Training Accuracy= 0.90000\n",
      "Iter 18000, Minibatch Loss= 0.372731, Training Accuracy= 0.91000\n",
      "Iter 19000, Minibatch Loss= 0.326833, Training Accuracy= 0.88000\n",
      "Iter 20000, Minibatch Loss= 0.135278, Training Accuracy= 0.96000\n",
      "Iter 21000, Minibatch Loss= 0.303646, Training Accuracy= 0.88000\n",
      "Iter 22000, Minibatch Loss= 0.441021, Training Accuracy= 0.90000\n",
      "Iter 23000, Minibatch Loss= 0.261169, Training Accuracy= 0.92000\n",
      "Iter 24000, Minibatch Loss= 0.268554, Training Accuracy= 0.89000\n",
      "Iter 25000, Minibatch Loss= 0.266681, Training Accuracy= 0.94000\n",
      "Iter 26000, Minibatch Loss= 0.301150, Training Accuracy= 0.92000\n",
      "Iter 27000, Minibatch Loss= 0.260287, Training Accuracy= 0.90000\n",
      "Iter 28000, Minibatch Loss= 0.155004, Training Accuracy= 0.95000\n",
      "Iter 29000, Minibatch Loss= 0.218751, Training Accuracy= 0.94000\n",
      "Iter 30000, Minibatch Loss= 0.452535, Training Accuracy= 0.90000\n",
      "Iter 31000, Minibatch Loss= 0.112114, Training Accuracy= 0.96000\n",
      "Iter 32000, Minibatch Loss= 0.196423, Training Accuracy= 0.94000\n",
      "Iter 33000, Minibatch Loss= 0.148391, Training Accuracy= 0.97000\n",
      "Iter 34000, Minibatch Loss= 0.155989, Training Accuracy= 0.94000\n",
      "Iter 35000, Minibatch Loss= 0.150589, Training Accuracy= 0.95000\n",
      "Iter 36000, Minibatch Loss= 0.229687, Training Accuracy= 0.93000\n",
      "Iter 37000, Minibatch Loss= 0.236373, Training Accuracy= 0.91000\n",
      "Iter 38000, Minibatch Loss= 0.133781, Training Accuracy= 0.96000\n",
      "Iter 39000, Minibatch Loss= 0.182079, Training Accuracy= 0.96000\n",
      "Iter 40000, Minibatch Loss= 0.116615, Training Accuracy= 0.97000\n",
      "Iter 41000, Minibatch Loss= 0.141804, Training Accuracy= 0.96000\n",
      "Iter 42000, Minibatch Loss= 0.109360, Training Accuracy= 0.94000\n",
      "Iter 43000, Minibatch Loss= 0.188747, Training Accuracy= 0.96000\n",
      "Iter 44000, Minibatch Loss= 0.134070, Training Accuracy= 0.91000\n",
      "Iter 45000, Minibatch Loss= 0.118572, Training Accuracy= 0.97000\n",
      "Iter 46000, Minibatch Loss= 0.170567, Training Accuracy= 0.93000\n",
      "Iter 47000, Minibatch Loss= 0.145138, Training Accuracy= 0.96000\n",
      "Iter 48000, Minibatch Loss= 0.102076, Training Accuracy= 0.98000\n",
      "Iter 49000, Minibatch Loss= 0.092502, Training Accuracy= 0.96000\n",
      "Iter 50000, Minibatch Loss= 0.088999, Training Accuracy= 0.96000\n",
      "Iter 51000, Minibatch Loss= 0.078510, Training Accuracy= 0.98000\n",
      "Iter 52000, Minibatch Loss= 0.119967, Training Accuracy= 0.97000\n",
      "Iter 53000, Minibatch Loss= 0.121145, Training Accuracy= 0.95000\n",
      "Iter 54000, Minibatch Loss= 0.080230, Training Accuracy= 0.97000\n",
      "Iter 55000, Minibatch Loss= 0.055615, Training Accuracy= 0.99000\n",
      "Iter 56000, Minibatch Loss= 0.227320, Training Accuracy= 0.94000\n",
      "Iter 57000, Minibatch Loss= 0.056998, Training Accuracy= 0.98000\n",
      "Iter 58000, Minibatch Loss= 0.144088, Training Accuracy= 0.94000\n",
      "Iter 59000, Minibatch Loss= 0.109980, Training Accuracy= 0.96000\n",
      "Iter 60000, Minibatch Loss= 0.141181, Training Accuracy= 0.96000\n",
      "Iter 61000, Minibatch Loss= 0.058751, Training Accuracy= 0.98000\n",
      "Iter 62000, Minibatch Loss= 0.120615, Training Accuracy= 0.96000\n",
      "Iter 63000, Minibatch Loss= 0.144596, Training Accuracy= 0.98000\n",
      "Iter 64000, Minibatch Loss= 0.062411, Training Accuracy= 1.00000\n",
      "Iter 65000, Minibatch Loss= 0.065744, Training Accuracy= 0.99000\n",
      "Iter 66000, Minibatch Loss= 0.107868, Training Accuracy= 0.98000\n",
      "Iter 67000, Minibatch Loss= 0.079728, Training Accuracy= 0.97000\n",
      "Iter 68000, Minibatch Loss= 0.171261, Training Accuracy= 0.95000\n",
      "Iter 69000, Minibatch Loss= 0.137883, Training Accuracy= 0.97000\n",
      "Iter 70000, Minibatch Loss= 0.052228, Training Accuracy= 0.98000\n",
      "Iter 71000, Minibatch Loss= 0.203305, Training Accuracy= 0.96000\n",
      "Iter 72000, Minibatch Loss= 0.076091, Training Accuracy= 0.97000\n",
      "Iter 73000, Minibatch Loss= 0.067544, Training Accuracy= 0.97000\n",
      "Iter 74000, Minibatch Loss= 0.054274, Training Accuracy= 0.98000\n",
      "Iter 75000, Minibatch Loss= 0.099623, Training Accuracy= 0.98000\n",
      "Iter 76000, Minibatch Loss= 0.141817, Training Accuracy= 0.95000\n",
      "Iter 77000, Minibatch Loss= 0.042978, Training Accuracy= 0.99000\n",
      "Iter 78000, Minibatch Loss= 0.085202, Training Accuracy= 0.97000\n",
      "Iter 79000, Minibatch Loss= 0.107307, Training Accuracy= 0.96000\n",
      "Iter 80000, Minibatch Loss= 0.071859, Training Accuracy= 0.96000\n",
      "Iter 81000, Minibatch Loss= 0.074657, Training Accuracy= 0.98000\n",
      "Iter 82000, Minibatch Loss= 0.076571, Training Accuracy= 0.98000\n",
      "Iter 83000, Minibatch Loss= 0.058815, Training Accuracy= 1.00000\n",
      "Iter 84000, Minibatch Loss= 0.099125, Training Accuracy= 0.98000\n",
      "Iter 85000, Minibatch Loss= 0.066267, Training Accuracy= 0.99000\n",
      "Iter 86000, Minibatch Loss= 0.045011, Training Accuracy= 0.99000\n",
      "Iter 87000, Minibatch Loss= 0.076440, Training Accuracy= 0.98000\n",
      "Iter 88000, Minibatch Loss= 0.055731, Training Accuracy= 0.98000\n",
      "Iter 89000, Minibatch Loss= 0.054876, Training Accuracy= 0.99000\n",
      "Iter 90000, Minibatch Loss= 0.077145, Training Accuracy= 0.97000\n",
      "Iter 91000, Minibatch Loss= 0.135062, Training Accuracy= 0.95000\n",
      "Iter 92000, Minibatch Loss= 0.037483, Training Accuracy= 0.99000\n",
      "Iter 93000, Minibatch Loss= 0.043812, Training Accuracy= 0.99000\n",
      "Iter 94000, Minibatch Loss= 0.112872, Training Accuracy= 0.95000\n",
      "Iter 95000, Minibatch Loss= 0.057080, Training Accuracy= 0.98000\n",
      "Iter 96000, Minibatch Loss= 0.103392, Training Accuracy= 0.98000\n",
      "Iter 97000, Minibatch Loss= 0.161658, Training Accuracy= 0.94000\n",
      "Iter 98000, Minibatch Loss= 0.056578, Training Accuracy= 0.98000\n",
      "Iter 99000, Minibatch Loss= 0.082810, Training Accuracy= 0.96000\n",
      "Optimization Finished!\n",
      "Testing Accuracy: 0.9609375\n"
     ]
    }
   ],
   "source": [
    "init = tf.global_variables_initializer()\n",
    "\n",
    "with tf.Session() as sess:\n",
    "    sess.run(init)\n",
    "    step = 1\n",
    "    # Keep training until reach max iterations.\n",
    "    while step * batch_size < training_iters:\n",
    "        # We will read a batch of 100 images [100 x 784] as batch_x\n",
    "        # batch_y is a matrix of [100x10]\n",
    "        batch_x, batch_y = mnist.train.next_batch(batch_size)\n",
    "        \n",
    "        # We consider each row of the image as one sequence.\n",
    "        # Reshape data to get 28 seq of 28 elements, so that, batxh_x is [100x28x28]\n",
    "        batch_x = batch_x.reshape((batch_size, n_steps, n_input))\n",
    "    \n",
    "        # Run optimization op (backprop)\n",
    "        sess.run(optimizer, feed_dict={x: batch_x, y: batch_y})\n",
    "        \n",
    "        if step % display_step == 0:\n",
    "            # Calculate batch accuracy.\n",
    "            acc = sess.run(accuracy, feed_dict={x: batch_x, y: batch_y})\n",
    "            # Calculate batch loss.\n",
    "            loss = sess.run(cost, feed_dict={x: batch_x, y: batch_y})\n",
    "            print(\"Iter \" + str(step*batch_size) + \", Minibatch Loss= \" + \\\n",
    "                  \"{:.6f}\".format(loss) + \", Training Accuracy= \" + \\\n",
    "                  \"{:.5f}\".format(acc))\n",
    "        step += 1\n",
    "    print(\"Optimization Finished!\")\n",
    "\n",
    "    # Calculate accuracy for 128 mnist test images.\n",
    "    test_len = 128\n",
    "    test_data = mnist.test.images[:test_len].reshape((-1, n_steps, n_input))\n",
    "    test_label = mnist.test.labels[:test_len]\n",
    "    print(\"Testing Accuracy:\", \\\n",
    "        sess.run(accuracy, feed_dict={x: test_data, y: test_label}))"
   ]
  },
  {
   "cell_type": "code",
   "execution_count": 30,
   "metadata": {},
   "outputs": [],
   "source": [
    "sess.close()"
   ]
  }
 ],
 "metadata": {
  "anaconda-cloud": {},
  "kernelspec": {
   "display_name": "Python 3",
   "language": "python",
   "name": "python3"
  },
  "language_info": {
   "codemirror_mode": {
    "name": "ipython",
    "version": 3
   },
   "file_extension": ".py",
   "mimetype": "text/x-python",
   "name": "python",
   "nbconvert_exporter": "python",
   "pygments_lexer": "ipython3",
   "version": "3.6.5"
  },
  "widgets": {
   "state": {},
   "version": "1.1.2"
  }
 },
 "nbformat": 4,
 "nbformat_minor": 1
}
