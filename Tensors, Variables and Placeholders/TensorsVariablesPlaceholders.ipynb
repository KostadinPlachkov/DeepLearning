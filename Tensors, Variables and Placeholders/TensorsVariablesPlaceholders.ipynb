{
 "cells": [
  {
   "cell_type": "markdown",
   "metadata": {},
   "source": [
    "# Tensors Variables and Placeholders"
   ]
  },
  {
   "cell_type": "markdown",
   "metadata": {
    "collapsed": true
   },
   "source": [
    "### Tensor is multidimensional array."
   ]
  },
  {
   "cell_type": "code",
   "execution_count": 4,
   "metadata": {},
   "outputs": [],
   "source": [
    "import tensorflow as tf"
   ]
  },
  {
   "cell_type": "code",
   "execution_count": 6,
   "metadata": {
    "collapsed": false
   },
   "outputs": [
    {
     "name": "stdout",
     "output_type": "stream",
     "text": [
      "Scalar:\n 3\nVector:\n [3 4 5 6]\nMatrix:\n [[ 3  5]\n [ 9 10]]\nTensor:\n [[[ 3  5]\n  [ 9 10]]\n\n [[ 7  5]\n  [ 1 10]]]\n"
     ]
    }
   ],
   "source": [
    "scalar = tf.constant(3)\n",
    "vector = tf.constant([3, 4, 5, 6])\n",
    "matrix = tf.constant([[3, 5], [9, 10]])\n",
    "tensor = tf.constant([[[3, 5], [9, 10]], [[7, 5], [1, 10]]])\n",
    "\n",
    "matrix2 = tf.constant([[7, 1], [3, 10]])\n",
    "\n",
    "with tf.Session() as session:\n",
    "    result = session.run(scalar)\n",
    "    print(\"Scalar:\\n\", result)\n",
    "    result = session.run(vector)\n",
    "    print(\"Vector:\\n\", result)\n",
    "    result = session.run(matrix)\n",
    "    print(\"Matrix:\\n\", result)\n",
    "    result = session.run(tensor)\n",
    "    print(\"Tensor:\\n\", result)"
   ]
  },
  {
   "cell_type": "markdown",
   "metadata": {},
   "source": [
    "## Operations with matrices"
   ]
  },
  {
   "cell_type": "code",
   "execution_count": 7,
   "metadata": {
    "collapsed": false,
    "scrolled": true
   },
   "outputs": [
    {
     "name": "stdout",
     "output_type": "stream",
     "text": [
      "Multiply matrix by 2:\n [[ 6 10]\n [18 20]]\n"
     ]
    }
   ],
   "source": [
    "matrix2 = matrix * 2\n",
    "\n",
    "with tf.Session() as session:\n",
    "    result = session.run(matrix2)\n",
    "    print(\"Multiply matrix by 2:\\n\", result)"
   ]
  },
  {
   "cell_type": "code",
   "execution_count": 8,
   "metadata": {
    "collapsed": false
   },
   "outputs": [
    {
     "name": "stdout",
     "output_type": "stream",
     "text": [
      "[[ 3  5]\n [ 9 10]]\n+\n[[ 6 10]\n [18 20]]\n----------\n[[ 9 15]\n [27 30]]\n"
     ]
    }
   ],
   "source": [
    "result_adding_matrices = matrix + matrix2\n",
    "\n",
    "with tf.Session() as session:\n",
    "    matrix1 = session.run(matrix)\n",
    "    matrix2 = session.run(matrix2)\n",
    "    result = session.run(result_adding_matrices)\n",
    "    \n",
    "    print(matrix1)\n",
    "    print(\"+\")\n",
    "    print(matrix2)\n",
    "    print(\"-\" * 10)\n",
    "    print(result)"
   ]
  },
  {
   "cell_type": "markdown",
   "metadata": {},
   "source": [
    "## Variables"
   ]
  },
  {
   "cell_type": "markdown",
   "metadata": {},
   "source": [
    "### Simple counter."
   ]
  },
  {
   "cell_type": "code",
   "execution_count": 9,
   "metadata": {
    "collapsed": false
   },
   "outputs": [
    {
     "name": "stdout",
     "output_type": "stream",
     "text": [
      "Counter:\n"
     ]
    },
    {
     "name": "stdout",
     "output_type": "stream",
     "text": [
      "0\n1\n2\n3\n4\n5\n"
     ]
    }
   ],
   "source": [
    "state = tf.Variable(0)\n",
    "one = tf.constant(1)\n",
    "new_value = tf.add(state, one)\n",
    "update = tf.assign(state, new_value)\n",
    "init_op = tf.variables_initializer([state])\n",
    "print(\"Counter:\")\n",
    "with tf.Session() as session:\n",
    "    session.run(init_op)\n",
    "    print(session.run(state))\n",
    "    for _ in range(5):\n",
    "        session.run(update)\n",
    "        print(session.run(state))"
   ]
  },
  {
   "cell_type": "markdown",
   "metadata": {},
   "source": [
    "## Placeholders"
   ]
  },
  {
   "cell_type": "markdown",
   "metadata": {},
   "source": [
    "### Feed data to TensorFlow from outside a model. Placeholder is likevariable that will not actually receive its data until a later point."
   ]
  },
  {
   "cell_type": "code",
   "execution_count": null,
   "metadata": {
    "collapsed": false
   },
   "outputs": [],
   "source": [
    "a = tf.placeholder(tf.float32)\n",
    "b = a * 2\n",
    "\n",
    "with tf.Session() as session:\n",
    "    result = session.run(b, feed_dict={a: 6.5})\n",
    "    print(\"Placeholder {a: 6.5}:\", result)\n",
    "\n",
    "dictionary = {a: [[[3, 5], [9, 10]], [[7, 5], [1, 10]]]}\n",
    "with tf.Session() as session:\n",
    "    result = session.run(b, feed_dict=dictionary)\n",
    "    print(\"Placeholder {a: [[[3, 5], [9, 10]], [[7, 5], [1, 10]]]}:\\n\", result)"
   ]
  }
 ],
 "metadata": {
  "kernelspec": {
   "display_name": "Python 3",
   "language": "python",
   "name": "python3"
  },
  "language_info": {
   "codemirror_mode": {
    "name": "ipython",
    "version": 3
   },
   "file_extension": ".py",
   "mimetype": "text/x-python",
   "name": "python",
   "nbconvert_exporter": "python",
   "pygments_lexer": "ipython3",
   "version": "3.6.0"
  }
 },
 "nbformat": 4,
 "nbformat_minor": 2
}
